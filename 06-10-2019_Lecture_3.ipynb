{
 "cells": [
  {
   "cell_type": "code",
   "execution_count": 1,
   "metadata": {},
   "outputs": [],
   "source": [
    "import numpy as np"
   ]
  },
  {
   "cell_type": "markdown",
   "metadata": {},
   "source": [
    "sum\n",
    "all\n",
    "any"
   ]
  },
  {
   "cell_type": "code",
   "execution_count": 3,
   "metadata": {},
   "outputs": [
    {
     "data": {
      "text/plain": [
       "array([7, 2])"
      ]
     },
     "execution_count": 3,
     "metadata": {},
     "output_type": "execute_result"
    }
   ],
   "source": [
    "x = np.array([2, 4 , 5 , 6, 7])\n",
    "x[[-1, 0]]"
   ]
  },
  {
   "cell_type": "code",
   "execution_count": 4,
   "metadata": {},
   "outputs": [
    {
     "data": {
      "text/plain": [
       "array([6, 7])"
      ]
     },
     "execution_count": 4,
     "metadata": {},
     "output_type": "execute_result"
    }
   ],
   "source": [
    "x[x > 5]"
   ]
  },
  {
   "cell_type": "code",
   "execution_count": 5,
   "metadata": {},
   "outputs": [
    {
     "data": {
      "text/plain": [
       "array([False, False, False,  True,  True])"
      ]
     },
     "execution_count": 5,
     "metadata": {},
     "output_type": "execute_result"
    }
   ],
   "source": [
    "x > 5"
   ]
  },
  {
   "cell_type": "code",
   "execution_count": 6,
   "metadata": {},
   "outputs": [
    {
     "data": {
      "text/plain": [
       "2"
      ]
     },
     "execution_count": 6,
     "metadata": {},
     "output_type": "execute_result"
    }
   ],
   "source": [
    "(x > 5).sum()"
   ]
  },
  {
   "cell_type": "code",
   "execution_count": 7,
   "metadata": {},
   "outputs": [
    {
     "data": {
      "text/plain": [
       "array([2])"
      ]
     },
     "execution_count": 7,
     "metadata": {},
     "output_type": "execute_result"
    }
   ],
   "source": [
    "x[x==2]"
   ]
  },
  {
   "cell_type": "code",
   "execution_count": 8,
   "metadata": {},
   "outputs": [
    {
     "data": {
      "text/plain": [
       "True"
      ]
     },
     "execution_count": 8,
     "metadata": {},
     "output_type": "execute_result"
    }
   ],
   "source": [
    "t = x == 2\n",
    "t.any()"
   ]
  },
  {
   "cell_type": "code",
   "execution_count": 9,
   "metadata": {},
   "outputs": [
    {
     "data": {
      "text/plain": [
       "array([ True,  True, False,  True, False])"
      ]
     },
     "execution_count": 9,
     "metadata": {},
     "output_type": "execute_result"
    }
   ],
   "source": [
    "e = x % 2 == 0\n",
    "e"
   ]
  },
  {
   "cell_type": "code",
   "execution_count": 10,
   "metadata": {},
   "outputs": [
    {
     "data": {
      "text/plain": [
       "True"
      ]
     },
     "execution_count": 10,
     "metadata": {},
     "output_type": "execute_result"
    }
   ],
   "source": [
    "e.any()"
   ]
  },
  {
   "cell_type": "code",
   "execution_count": 11,
   "metadata": {},
   "outputs": [
    {
     "data": {
      "text/plain": [
       "True"
      ]
     },
     "execution_count": 11,
     "metadata": {},
     "output_type": "execute_result"
    }
   ],
   "source": [
    "a = x < 10\n",
    "a.all()"
   ]
  },
  {
   "cell_type": "code",
   "execution_count": 12,
   "metadata": {},
   "outputs": [
    {
     "data": {
      "text/plain": [
       "False"
      ]
     },
     "execution_count": 12,
     "metadata": {},
     "output_type": "execute_result"
    }
   ],
   "source": [
    "b = x < 5\n",
    "b.all()"
   ]
  },
  {
   "cell_type": "code",
   "execution_count": 13,
   "metadata": {},
   "outputs": [
    {
     "data": {
      "text/plain": [
       "array([2, 4])"
      ]
     },
     "execution_count": 13,
     "metadata": {},
     "output_type": "execute_result"
    }
   ],
   "source": [
    "x[b]"
   ]
  },
  {
   "cell_type": "code",
   "execution_count": 14,
   "metadata": {},
   "outputs": [],
   "source": [
    "jungle = np.array(['lion', 'cat', 'lion', 'horse', 'monkey', 'lion'])"
   ]
  },
  {
   "cell_type": "code",
   "execution_count": 16,
   "metadata": {},
   "outputs": [
    {
     "data": {
      "text/plain": [
       "3"
      ]
     },
     "execution_count": 16,
     "metadata": {},
     "output_type": "execute_result"
    }
   ],
   "source": [
    "c = jungle == 'lion'\n",
    "c.sum()"
   ]
  },
  {
   "cell_type": "code",
   "execution_count": 17,
   "metadata": {},
   "outputs": [],
   "source": [
    "d = jungle == 'donkey'"
   ]
  },
  {
   "cell_type": "code",
   "execution_count": 18,
   "metadata": {},
   "outputs": [
    {
     "data": {
      "text/plain": [
       "False"
      ]
     },
     "execution_count": 18,
     "metadata": {},
     "output_type": "execute_result"
    }
   ],
   "source": [
    "d.any()"
   ]
  },
  {
   "cell_type": "code",
   "execution_count": 19,
   "metadata": {},
   "outputs": [
    {
     "data": {
      "text/plain": [
       "array([2, 4, 5, 6, 7])"
      ]
     },
     "execution_count": 19,
     "metadata": {},
     "output_type": "execute_result"
    }
   ],
   "source": [
    "np.sort(x)"
   ]
  },
  {
   "cell_type": "code",
   "execution_count": 20,
   "metadata": {},
   "outputs": [
    {
     "data": {
      "text/plain": [
       "array(['cat', 'horse', 'lion', 'monkey'], dtype='<U6')"
      ]
     },
     "execution_count": 20,
     "metadata": {},
     "output_type": "execute_result"
    }
   ],
   "source": [
    "np.unique(jungle)"
   ]
  },
  {
   "cell_type": "markdown",
   "metadata": {},
   "source": [
    "# File Input Output"
   ]
  },
  {
   "cell_type": "code",
   "execution_count": 23,
   "metadata": {},
   "outputs": [],
   "source": [
    "# File input output\n",
    "np.save('data.npy', x)"
   ]
  },
  {
   "cell_type": "code",
   "execution_count": 24,
   "metadata": {},
   "outputs": [
    {
     "data": {
      "text/plain": [
       "array([2, 4, 5, 6, 7])"
      ]
     },
     "execution_count": 24,
     "metadata": {},
     "output_type": "execute_result"
    }
   ],
   "source": [
    "np.load('data.npy')"
   ]
  },
  {
   "cell_type": "code",
   "execution_count": 31,
   "metadata": {},
   "outputs": [
    {
     "data": {
      "text/plain": [
       "array([[ 0.62294394, -0.69481679,  1.45883217, -0.49566779, -0.14215528,\n",
       "         0.08233678, -0.03965016, -0.08120792, -0.40269895, -0.53243479],\n",
       "       [-1.08916267, -0.66972812,  1.79120876,  0.60327942,  1.33671329,\n",
       "        -0.42812932, -0.06727638, -0.50668452,  0.66750431,  0.50587577],\n",
       "       [ 0.43820887, -0.0427744 ,  0.42499314,  0.58038575, -0.32469267,\n",
       "         0.46875801, -0.56556179,  1.00986009,  0.23855572, -1.79959387],\n",
       "       [ 1.35291307, -0.49974381,  0.17452218,  0.19691837, -2.10427071,\n",
       "        -1.19773115, -0.76193556, -1.23712741,  1.16782873, -1.3342555 ],\n",
       "       [-0.34625468,  0.07808887, -2.97482015,  0.19648061, -1.35935459,\n",
       "         0.35920793,  0.35622865, -1.10732324, -0.34866466, -0.8242401 ],\n",
       "       [-0.32442933,  0.06443266, -0.25965509, -1.31452885,  0.18458572,\n",
       "        -2.01538458, -0.93687946, -0.94490969, -0.45331717,  1.14227226],\n",
       "       [-0.31055604, -0.08075781,  0.76306454,  1.12932363, -1.14238336,\n",
       "         0.01588673,  0.66580231, -0.45792086, -0.06669308, -0.32846576],\n",
       "       [ 0.05245571, -0.0794333 ,  0.83183826, -0.59464814, -1.35646469,\n",
       "        -0.83097826, -0.28951369,  1.69057341,  1.97961112,  0.23983686],\n",
       "       [-0.59398441,  0.14800133, -1.65743759, -1.14965552, -0.12762643,\n",
       "         0.09510697, -1.40435359, -1.50164543, -1.11681554,  0.40134293],\n",
       "       [-0.45390983, -0.25168858,  0.86998373,  0.56455571,  0.39452385,\n",
       "         1.17476322,  1.00282496,  0.21899878, -0.56630525, -1.12305696]])"
      ]
     },
     "execution_count": 31,
     "metadata": {},
     "output_type": "execute_result"
    }
   ],
   "source": [
    "f = np.random.randn(10, 10)\n",
    "f"
   ]
  },
  {
   "cell_type": "code",
   "execution_count": 32,
   "metadata": {},
   "outputs": [],
   "source": [
    "np.save('randomN.npy', f)"
   ]
  },
  {
   "cell_type": "code",
   "execution_count": 33,
   "metadata": {},
   "outputs": [
    {
     "data": {
      "text/plain": [
       "(10, 10)"
      ]
     },
     "execution_count": 33,
     "metadata": {},
     "output_type": "execute_result"
    }
   ],
   "source": [
    "s = np.load(\"randomN.npy\")\n",
    "s.shape"
   ]
  },
  {
   "cell_type": "code",
   "execution_count": 34,
   "metadata": {},
   "outputs": [],
   "source": [
    "p = np.random.randn(5, 5)"
   ]
  },
  {
   "cell_type": "code",
   "execution_count": 35,
   "metadata": {},
   "outputs": [],
   "source": [
    "np.savez('multi.npz', a1 = f, a2 = p)"
   ]
  },
  {
   "cell_type": "code",
   "execution_count": 39,
   "metadata": {},
   "outputs": [
    {
     "data": {
      "text/plain": [
       "array([[ 0.62294394, -0.69481679,  1.45883217, -0.49566779, -0.14215528,\n",
       "         0.08233678, -0.03965016, -0.08120792, -0.40269895, -0.53243479],\n",
       "       [-1.08916267, -0.66972812,  1.79120876,  0.60327942,  1.33671329,\n",
       "        -0.42812932, -0.06727638, -0.50668452,  0.66750431,  0.50587577],\n",
       "       [ 0.43820887, -0.0427744 ,  0.42499314,  0.58038575, -0.32469267,\n",
       "         0.46875801, -0.56556179,  1.00986009,  0.23855572, -1.79959387],\n",
       "       [ 1.35291307, -0.49974381,  0.17452218,  0.19691837, -2.10427071,\n",
       "        -1.19773115, -0.76193556, -1.23712741,  1.16782873, -1.3342555 ],\n",
       "       [-0.34625468,  0.07808887, -2.97482015,  0.19648061, -1.35935459,\n",
       "         0.35920793,  0.35622865, -1.10732324, -0.34866466, -0.8242401 ],\n",
       "       [-0.32442933,  0.06443266, -0.25965509, -1.31452885,  0.18458572,\n",
       "        -2.01538458, -0.93687946, -0.94490969, -0.45331717,  1.14227226],\n",
       "       [-0.31055604, -0.08075781,  0.76306454,  1.12932363, -1.14238336,\n",
       "         0.01588673,  0.66580231, -0.45792086, -0.06669308, -0.32846576],\n",
       "       [ 0.05245571, -0.0794333 ,  0.83183826, -0.59464814, -1.35646469,\n",
       "        -0.83097826, -0.28951369,  1.69057341,  1.97961112,  0.23983686],\n",
       "       [-0.59398441,  0.14800133, -1.65743759, -1.14965552, -0.12762643,\n",
       "         0.09510697, -1.40435359, -1.50164543, -1.11681554,  0.40134293],\n",
       "       [-0.45390983, -0.25168858,  0.86998373,  0.56455571,  0.39452385,\n",
       "         1.17476322,  1.00282496,  0.21899878, -0.56630525, -1.12305696]])"
      ]
     },
     "execution_count": 39,
     "metadata": {},
     "output_type": "execute_result"
    }
   ],
   "source": [
    "multi = np.load('multi.npz')\n",
    "multi['a1']"
   ]
  },
  {
   "cell_type": "code",
   "execution_count": 43,
   "metadata": {},
   "outputs": [],
   "source": [
    "arr1 = np.arange(1, 11)\n",
    "arr2 = np.arange(2, 11, 2)\n",
    "arr3 = np.arange(0, 11, 3 )"
   ]
  },
  {
   "cell_type": "code",
   "execution_count": 44,
   "metadata": {},
   "outputs": [
    {
     "data": {
      "text/plain": [
       "array([[ 1,  2],\n",
       "       [ 3,  4],\n",
       "       [ 5,  6],\n",
       "       [ 7,  8],\n",
       "       [ 9, 10]])"
      ]
     },
     "execution_count": 44,
     "metadata": {},
     "output_type": "execute_result"
    }
   ],
   "source": [
    "arr1.reshape(5, 2)"
   ]
  },
  {
   "cell_type": "code",
   "execution_count": 46,
   "metadata": {},
   "outputs": [],
   "source": [
    "s = np.savez(\"three.npz\", a1 = arr1, a2 = arr2, a3 = arr3)"
   ]
  },
  {
   "cell_type": "code",
   "execution_count": 47,
   "metadata": {},
   "outputs": [],
   "source": [
    "d = np.load(\"three.npz\")"
   ]
  },
  {
   "cell_type": "code",
   "execution_count": 48,
   "metadata": {},
   "outputs": [
    {
     "data": {
      "text/plain": [
       "array([ 1,  2,  3,  4,  5,  6,  7,  8,  9, 10])"
      ]
     },
     "execution_count": 48,
     "metadata": {},
     "output_type": "execute_result"
    }
   ],
   "source": [
    "d['a1']"
   ]
  },
  {
   "cell_type": "code",
   "execution_count": 51,
   "metadata": {},
   "outputs": [
    {
     "name": "stdout",
     "output_type": "stream",
     "text": [
      "[ 2  4  6  8 10]\n",
      "[0 3 6 9]\n"
     ]
    },
    {
     "data": {
      "text/plain": [
       "KeysView(<numpy.lib.npyio.NpzFile object at 0x0000027C45C0EB38>)"
      ]
     },
     "execution_count": 51,
     "metadata": {},
     "output_type": "execute_result"
    }
   ],
   "source": [
    "print(d['a2'])\n",
    "print(d['a3'])\n",
    "d.keys()"
   ]
  },
  {
   "cell_type": "markdown",
   "metadata": {},
   "source": [
    "# Linear Algebra functions"
   ]
  },
  {
   "cell_type": "code",
   "execution_count": 53,
   "metadata": {},
   "outputs": [
    {
     "name": "stdout",
     "output_type": "stream",
     "text": [
      "[[-1.98149511]\n",
      " [ 0.05558081]\n",
      " [ 1.42346309]\n",
      " [ 0.75967499]]\n",
      "[[-0.59616672  0.46311223 -0.87890278 -0.32100442]]\n"
     ]
    }
   ],
   "source": [
    "a = np.random.randn(4, 1)\n",
    "b = np.random.randn(1, 4)\n",
    "print(a)\n",
    "print(b)"
   ]
  },
  {
   "cell_type": "code",
   "execution_count": 55,
   "metadata": {},
   "outputs": [
    {
     "name": "stdout",
     "output_type": "stream",
     "text": [
      "[[ 1.18130144 -0.91765462  1.74154156  0.63606869]\n",
      " [-0.03313543  0.02574015 -0.04885012 -0.01784168]\n",
      " [-0.84862132  0.65922317 -1.25108567 -0.45693794]\n",
      " [-0.45289295  0.35181478 -0.66768046 -0.24385903]]\n"
     ]
    }
   ],
   "source": [
    "c = np.dot(a, b)\n",
    "print(c)"
   ]
  },
  {
   "cell_type": "code",
   "execution_count": 56,
   "metadata": {},
   "outputs": [
    {
     "data": {
      "text/plain": [
       "array([-1.98149511])"
      ]
     },
     "execution_count": 56,
     "metadata": {},
     "output_type": "execute_result"
    }
   ],
   "source": [
    "d = np.diag(a)\n",
    "d"
   ]
  },
  {
   "cell_type": "code",
   "execution_count": 60,
   "metadata": {},
   "outputs": [
    {
     "name": "stdout",
     "output_type": "stream",
     "text": [
      "[[-1.32333183 -1.36730772 -1.23972045 -0.45192953]\n",
      " [ 0.34227428  1.20044948  0.00577561  0.60280383]\n",
      " [ 0.64349043  0.23114091 -0.15729765 -0.07417916]\n",
      " [-2.3997124   0.46488887 -0.73813548 -0.94971001]]\n"
     ]
    }
   ],
   "source": [
    "e = np.random.randn(4, 4)\n",
    "print(e)"
   ]
  },
  {
   "cell_type": "code",
   "execution_count": null,
   "metadata": {},
   "outputs": [],
   "source": []
  },
  {
   "cell_type": "code",
   "execution_count": null,
   "metadata": {},
   "outputs": [],
   "source": []
  }
 ],
 "metadata": {
  "kernelspec": {
   "display_name": "Python 3",
   "language": "python",
   "name": "python3"
  },
  "language_info": {
   "codemirror_mode": {
    "name": "ipython",
    "version": 3
   },
   "file_extension": ".py",
   "mimetype": "text/x-python",
   "name": "python",
   "nbconvert_exporter": "python",
   "pygments_lexer": "ipython3",
   "version": "3.7.0"
  }
 },
 "nbformat": 4,
 "nbformat_minor": 2
}
